{
 "cells": [
  {
   "cell_type": "markdown",
   "id": "aaeff859-56f0-4c55-9070-22cbf5bf3913",
   "metadata": {},
   "source": [
    "Python Demo Script - Clinical Data Analysis\n",
    "-------------------------------------------\n",
    "This script demonstrates how to work with clinical data\n",
    "(Patients, Samples, Tests, Treatments) using Pandas.\n",
    "Data is assumed to be imported from CSV files (for demo),\n",
    "but in real projects we would connect directly to SQL."
   ]
  },
  {
   "cell_type": "code",
   "execution_count": 14,
   "id": "351715bb-43b0-4fef-8c80-841eeb133034",
   "metadata": {},
   "outputs": [],
   "source": [
    "# 1. Import libraries\n",
    "import pandas as pd\n",
    "import matplotlib.pyplot as plt\n",
    "import seaborn as sns\n",
    "from datetime import datetime\n",
    "import os\n",
    "import os"
   ]
  },
  {
   "cell_type": "code",
   "execution_count": 15,
   "id": "325f7c0a-e514-46a8-9378-dda623fe4980",
   "metadata": {},
   "outputs": [],
   "source": [
    "# Always load relative to the script location\n",
    "BASE_DIR = os.getcwd() \n",
    "DATA_DIR = os.path.join(BASE_DIR, \"data\")"
   ]
  },
  {
   "cell_type": "code",
   "execution_count": 16,
   "id": "d6a68093-2de4-4928-831d-c06dd33f1f76",
   "metadata": {},
   "outputs": [],
   "source": [
    "# 2. Load CSV files\n",
    "patients = pd.read_csv(os.path.join(DATA_DIR, \"Patients.csv\"))\n",
    "samples = pd.read_csv(os.path.join(DATA_DIR, \"Samples.csv\"))\n",
    "tests = pd.read_csv(os.path.join(DATA_DIR, \"Tests.csv\"))\n",
    "treatments = pd.read_csv(os.path.join(DATA_DIR, \"Treatments.csv\"))"
   ]
  },
  {
   "cell_type": "code",
   "execution_count": 17,
   "id": "464706c6-0696-4c8e-a062-539ed169c2f5",
   "metadata": {},
   "outputs": [
    {
     "name": "stdout",
     "output_type": "stream",
     "text": [
      "Patients:\n",
      "   patient_id patient_code         dob  gender diagnosis_date  \\\n",
      "0           1         P001  1971-12-03  Female     2023-04-25   \n",
      "1           2         P002  1999-02-11  Female     2023-04-12   \n",
      "2           3         P003  1979-02-17    Male     2022-01-20   \n",
      "\n",
      "  primary_diagnosis  \n",
      "0               NaN  \n",
      "1          Melanoma  \n",
      "2       Lung Cancer   \n",
      "\n",
      "Samples:\n",
      "   sample_id  patient_id sample_type collection_date location\n",
      "0          1           1   Resection      2022-01-08  Unknown\n",
      "1          2           1    Cytology      2023-10-26  Unknown\n",
      "2          3           1    Cytology      2023-08-03  Unknown \n",
      "\n",
      "Tests:\n",
      "   test_id  sample_id  test_type marker    result   test_date\n",
      "0        1          1  Molecular   Ki67       NaN   3/28/2021\n",
      "1        2          1   Cytology   Ki67       NaN  2022-08-18\n",
      "2        3          1  Histology   BRAF  Negative  2021-05-03 \n",
      "\n",
      "Treatments:\n",
      "   patient_id treatment_type  start_date    end_date       outcome\n",
      "0           1        Surgery  2021-07-31  2021-09-16  Unsuccessful\n",
      "1           2            NaN         NaN         NaN           NaN\n",
      "2           3   Radiotherapy  2021-11-26  2022-02-23    Successful \n",
      "\n"
     ]
    }
   ],
   "source": [
    "# 3. Quick preview of the data\n",
    "print(\"Patients:\")\n",
    "print(patients.head(3), \"\\n\")\n",
    "\n",
    "print(\"Samples:\")\n",
    "print(samples.head(3), \"\\n\")\n",
    "\n",
    "print(\"Tests:\")\n",
    "print(tests.head(3), \"\\n\")\n",
    "\n",
    "print(\"Treatments:\")\n",
    "print(treatments.head(3), \"\\n\")"
   ]
  },
  {
   "cell_type": "code",
   "execution_count": 19,
   "id": "a78a89f0-0901-42ed-a9a5-95dc66a36026",
   "metadata": {},
   "outputs": [
    {
     "name": "stdout",
     "output_type": "stream",
     "text": [
      "Number of NULL test results: 66\n",
      "\n",
      "Unique test result values: [nan 'Negative' 'Positive'] \n",
      "\n"
     ]
    }
   ],
   "source": [
    "# 4. Data quality checks\n",
    "# Null values in Tests\n",
    "null_count = tests[\"result\"].isnull().sum()\n",
    "print(f\"Number of NULL test results: {null_count}\\n\")\n",
    "\n",
    "# Check unexpected values in Tests\n",
    "print(\"Unique test result values:\", tests[\"result\"].unique(), \"\\n\")"
   ]
  },
  {
   "cell_type": "code",
   "execution_count": 24,
   "id": "2e4cd142-d4c7-463c-bc57-f6a2acfc4075",
   "metadata": {},
   "outputs": [
    {
     "name": "stdout",
     "output_type": "stream",
     "text": [
      "Test summary per patient:\n",
      " result      Negative  Positive\n",
      "patient_id                    \n",
      "1                  3         1\n",
      "3                  4         0\n",
      "4                  3         1\n",
      "5                  1         0\n",
      "6                  2         3\n",
      "7                  3         2\n",
      "8                  0         3\n",
      "9                  0         1\n",
      "10                 1         3\n",
      "11                 1         2\n",
      "13                 0         3\n",
      "14                 0         1\n",
      "17                 2         1\n",
      "18                 1         0\n",
      "19                 0         2\n",
      "20                 0         2\n",
      "21                 2         3\n",
      "22                 1         4\n",
      "23                 2         1\n",
      "24                 3         1\n",
      "25                 2         1\n",
      "26                 2         3\n",
      "27                 1         3\n",
      "28                 0         1\n",
      "29                 1         2\n",
      "30                 1         1\n",
      "31                 1         2\n",
      "32                 1         2\n",
      "33                 4         2\n",
      "34                 2         1\n",
      "35                 3         1\n",
      "36                 4         1\n",
      "37                 2         0\n",
      "38                 1         0\n",
      "39                 1         0\n",
      "40                 1         1\n",
      "41                 0         2\n",
      "42                 2         0\n",
      "43                 2         1\n",
      "44                 1         1\n",
      "45                 1         1\n",
      "46                 1         0\n",
      "47                 2         3\n",
      "48                 0         2\n",
      "49                 0         1 \n",
      "\n"
     ]
    }
   ],
   "source": [
    "# 5. Join tables for test summary\n",
    "tests_samples = tests.merge(samples, on=\"sample_id\", how=\"left\")\n",
    "tests_patients = tests_samples.merge(patients, on=\"patient_id\", how=\"left\")\n",
    "\n",
    "# Count positive/negative results per patient\n",
    "test_summary = tests_patients.groupby(\"patient_id\")[\"result\"].value_counts().unstack(fill_value=0)\n",
    "print(\"Test summary per patient:\\n\", test_summary, \"\\n\")"
   ]
  },
  {
   "cell_type": "code",
   "execution_count": 29,
   "id": "63bd6e3d-a4f3-4143-b6b5-1ea30c66997f",
   "metadata": {},
   "outputs": [
    {
     "name": "stdout",
     "output_type": "stream",
     "text": [
      "Treatment summary per patient:\n",
      "     patient_id treatment_type  total_treatments  successful_treatments  \\\n",
      "0            1        Surgery                 1                      0   \n",
      "1            3   Radiotherapy                 1                      1   \n",
      "2            5        Surgery                 1                      0   \n",
      "3            7   Chemotherapy                 1                      0   \n",
      "4            8        Surgery                 1                      1   \n",
      "5            9        Surgery                 1                      1   \n",
      "6           12   Chemotherapy                 1                      0   \n",
      "7           15   Chemotherapy                 1                      0   \n",
      "8           16        Surgery                 1                      0   \n",
      "9           18   Chemotherapy                 1                      0   \n",
      "10          19   Chemotherapy                 1                      0   \n",
      "11          20   Radiotherapy                 1                      0   \n",
      "12          22   Radiotherapy                 1                      0   \n",
      "13          23   Radiotherapy                 1                      0   \n",
      "14          24        Surgery                 1                      0   \n",
      "15          27   Chemotherapy                 1                      0   \n",
      "16          29   Chemotherapy                 1                      1   \n",
      "17          30        Surgery                 1                      1   \n",
      "18          31        Surgery                 1                      0   \n",
      "19          32   Chemotherapy                 1                      0   \n",
      "20          33   Chemotherapy                 1                      0   \n",
      "21          34   Chemotherapy                 1                      0   \n",
      "22          35   Chemotherapy                 1                      0   \n",
      "23          36   Chemotherapy                 1                      0   \n",
      "24          37        Surgery                 1                      1   \n",
      "25          38   Radiotherapy                 1                      0   \n",
      "26          39        Surgery                 1                      1   \n",
      "27          41        Surgery                 1                      1   \n",
      "28          42   Radiotherapy                 1                      0   \n",
      "29          45   Radiotherapy                 1                      0   \n",
      "30          46        Surgery                 1                      1   \n",
      "31          47   Chemotherapy                 1                      0   \n",
      "32          50   Chemotherapy                 1                      0   \n",
      "\n",
      "    success_rate  \n",
      "0            0.0  \n",
      "1          100.0  \n",
      "2            0.0  \n",
      "3            0.0  \n",
      "4          100.0  \n",
      "5          100.0  \n",
      "6            0.0  \n",
      "7            0.0  \n",
      "8            0.0  \n",
      "9            0.0  \n",
      "10           0.0  \n",
      "11           0.0  \n",
      "12           0.0  \n",
      "13           0.0  \n",
      "14           0.0  \n",
      "15           0.0  \n",
      "16         100.0  \n",
      "17         100.0  \n",
      "18           0.0  \n",
      "19           0.0  \n",
      "20           0.0  \n",
      "21           0.0  \n",
      "22           0.0  \n",
      "23           0.0  \n",
      "24         100.0  \n",
      "25           0.0  \n",
      "26         100.0  \n",
      "27         100.0  \n",
      "28           0.0  \n",
      "29           0.0  \n",
      "30         100.0  \n",
      "31           0.0  \n",
      "32           0.0   \n",
      "\n"
     ]
    }
   ],
   "source": [
    "# 6. Treatment analysis per patient\n",
    "treatment_summary = treatments.groupby([\"patient_id\", \"treatment_type\"]).agg(\n",
    "    total_treatments=(\"treatment_type\",\"count\"),\n",
    "    successful_treatments=(\"outcome\", lambda x: (x==\"Successful\").sum())\n",
    ").reset_index()\n",
    "\n",
    "treatment_summary[\"success_rate\"] = (\n",
    "    treatment_summary[\"successful_treatments\"] / treatment_summary[\"total_treatments\"] * 100\n",
    ")\n",
    "print(\"Treatment summary per patient:\\n\", treatment_summary, \"\\n\")"
   ]
  },
  {
   "cell_type": "code",
   "execution_count": 34,
   "id": "2baf1e66-01db-41d5-82d4-f9df7b4d23d1",
   "metadata": {},
   "outputs": [
    {
     "name": "stdout",
     "output_type": "stream",
     "text": [
      "Treatment summary by age group:\n",
      "   age_group  total_treatments  successful_treatments  success_rate\n",
      "0     30-50                 8                      2     25.000000\n",
      "1       <30                 7                      0      0.000000\n",
      "2       >50                18                      7     38.888889 \n",
      "\n"
     ]
    }
   ],
   "source": [
    "# 7. Age group analysis\n",
    "# Convert date of birth to datetime format\n",
    "patients[\"dob\"] = pd.to_datetime(patients[\"dob\"])\n",
    "\n",
    "# Calculate age in years from date of birth\n",
    "patients[\"age\"] = (datetime.now() - patients[\"dob\"]).dt.days // 365\n",
    "\n",
    "# Define age group categories\n",
    "def age_group(age):\n",
    "    if age < 30:\n",
    "        return \"<30\"\n",
    "    elif age <= 50:\n",
    "        return \"30-50\"\n",
    "    else:\n",
    "        return \">50\"\n",
    "\n",
    "# Apply age group function to each patient\n",
    "patients[\"age_group\"] = patients[\"age\"].apply(age_group)\n",
    "\n",
    "# Merge treatments with patients to associate each treatment with the patient's age group\n",
    "age_treatment_summary = treatments.merge(patients, on=\"patient_id\", how=\"left\")\n",
    "\n",
    "# Aggregate treatments by age group\n",
    "# total_treatments: total number of treatments per age group\n",
    "# successful_treatments: number of successful treatments per age group\n",
    "age_group_summary = age_treatment_summary.groupby(\"age_group\").agg(\n",
    "    total_treatments=(\"outcome\", \"count\"),\n",
    "    successful_treatments=(\"outcome\", lambda x: (x==\"Successful\").sum())\n",
    ").reset_index()\n",
    "\n",
    "# Calculate success rate percentage for each age group\n",
    "age_group_summary[\"success_rate\"] = (\n",
    "    age_group_summary[\"successful_treatments\"] / age_group_summary[\"total_treatments\"] * 100\n",
    ")\n",
    "\n",
    "# Print the summary table\n",
    "print(\"Treatment summary by age group:\\n\", age_group_summary, \"\\n\")"
   ]
  },
  {
   "cell_type": "code",
   "execution_count": 35,
   "id": "77cec107-af6f-46e1-bc8a-114a8a1f25d5",
   "metadata": {},
   "outputs": [
    {
     "data": {
      "text/plain": [
       "Text(0, 0.5, 'Number of Treatments')"
      ]
     },
     "execution_count": 35,
     "metadata": {},
     "output_type": "execute_result"
    },
    {
     "data": {
      "image/png": "[encoded data removed]",
      "text/plain": [
       "<Figure size 640x480 with 2 Axes>"
      ]
     },
     "metadata": {},
     "output_type": "display_data"
    }
   ],
   "source": [
    "# 8. Visualization\n",
    "# Create bar plots to visualize treatment success rate and total treatments per age group\n",
    "plt.subplot(1,2,1)\n",
    "sns.barplot(\n",
    "    data=age_group_summary, \n",
    "    x=\"age_group\", \n",
    "    y=\"success_rate\", \n",
    "    hue=\"age_group\",   # x değişkenini hue olarak da atadık\n",
    "    palette=\"viridis\", \n",
    "    dodge=False,       # yan yana çubukları ayırmasın\n",
    "    legend=False       # legend’i göstermesin\n",
    ")\n",
    "plt.title(\"Treatment Success Rate by Age Group\")\n",
    "plt.ylabel(\"Success Rate (%)\")\n",
    "\n",
    "# Total treatments plot\n",
    "plt.subplot(1,2,2)\n",
    "sns.barplot(\n",
    "    data=age_group_summary, \n",
    "    x=\"age_group\", \n",
    "    y=\"total_treatments\", \n",
    "    hue=\"age_group\", \n",
    "    palette=\"viridis\", \n",
    "    dodge=False,\n",
    "    legend=False\n",
    ")\n",
    "plt.title(\"Total Treatments by Age Group\")\n",
    "plt.ylabel(\"Number of Treatments\")\n"
   ]
  },
  {
   "cell_type": "code",
   "execution_count": null,
   "id": "f086a309-ea1b-4a00-8274-491b5a8bae6f",
   "metadata": {},
   "outputs": [],
   "source": []
  }
 ],
 "metadata": {
  "kernelspec": {
   "display_name": "Python 3.13",
   "language": "python",
   "name": "py313"
  },
  "language_info": {
   "codemirror_mode": {
    "name": "ipython",
    "version": 3
   },
   "file_extension": ".py",
   "mimetype": "text/x-python",
   "name": "python",
   "nbconvert_exporter": "python",
   "pygments_lexer": "ipython3",
   "version": "3.12.8"
  }
 },
 "nbformat": 4,
 "nbformat_minor": 5
}
